{
 "cells": [
  {
   "cell_type": "code",
   "execution_count": 1,
   "id": "f05d62b8",
   "metadata": {},
   "outputs": [],
   "source": [
    "# Import main libraries necessary for this project\n",
    "import numpy as np\n",
    "import pandas as pd\n",
    "from IPython.display import display # Allows the use of display() for DataFrames\n",
    "\n",
    "# Import libraries needed for reading image and processing it\n",
    "import csv\n",
    "from PIL import Image\n",
    "from scipy.ndimage import rotate\n",
    "\n",
    "# Pretty display for notebooks\n",
    "%matplotlib inline"
   ]
  },
  {
   "cell_type": "markdown",
   "id": "d391f084",
   "metadata": {},
   "source": [
    "### Loading Arabic Letters Dataset"
   ]
  },
  {
   "cell_type": "code",
   "execution_count": 2,
   "id": "445a8078",
   "metadata": {},
   "outputs": [
    {
     "name": "stdout",
     "output_type": "stream",
     "text": [
      "There are 13440 training arabic letter images of 64x64 pixels.\n",
      "There are 3360 testing arabic letter images of 64x64 pixels.\n"
     ]
    },
    {
     "data": {
      "text/html": [
       "<div>\n",
       "<style scoped>\n",
       "    .dataframe tbody tr th:only-of-type {\n",
       "        vertical-align: middle;\n",
       "    }\n",
       "\n",
       "    .dataframe tbody tr th {\n",
       "        vertical-align: top;\n",
       "    }\n",
       "\n",
       "    .dataframe thead th {\n",
       "        text-align: right;\n",
       "    }\n",
       "</style>\n",
       "<table border=\"1\" class=\"dataframe\">\n",
       "  <thead>\n",
       "    <tr style=\"text-align: right;\">\n",
       "      <th></th>\n",
       "      <th>0</th>\n",
       "      <th>1</th>\n",
       "      <th>2</th>\n",
       "      <th>3</th>\n",
       "      <th>4</th>\n",
       "      <th>5</th>\n",
       "      <th>6</th>\n",
       "      <th>7</th>\n",
       "      <th>8</th>\n",
       "      <th>9</th>\n",
       "      <th>...</th>\n",
       "      <th>4086</th>\n",
       "      <th>4087</th>\n",
       "      <th>4088</th>\n",
       "      <th>4089</th>\n",
       "      <th>4090</th>\n",
       "      <th>4091</th>\n",
       "      <th>4092</th>\n",
       "      <th>4093</th>\n",
       "      <th>4094</th>\n",
       "      <th>4095</th>\n",
       "    </tr>\n",
       "  </thead>\n",
       "  <tbody>\n",
       "    <tr>\n",
       "      <th>0</th>\n",
       "      <td>0</td>\n",
       "      <td>0</td>\n",
       "      <td>0</td>\n",
       "      <td>0</td>\n",
       "      <td>0</td>\n",
       "      <td>0</td>\n",
       "      <td>0</td>\n",
       "      <td>0</td>\n",
       "      <td>0</td>\n",
       "      <td>0</td>\n",
       "      <td>...</td>\n",
       "      <td>0</td>\n",
       "      <td>0</td>\n",
       "      <td>0</td>\n",
       "      <td>0</td>\n",
       "      <td>0</td>\n",
       "      <td>0</td>\n",
       "      <td>0</td>\n",
       "      <td>0</td>\n",
       "      <td>0</td>\n",
       "      <td>0</td>\n",
       "    </tr>\n",
       "    <tr>\n",
       "      <th>1</th>\n",
       "      <td>0</td>\n",
       "      <td>0</td>\n",
       "      <td>0</td>\n",
       "      <td>0</td>\n",
       "      <td>0</td>\n",
       "      <td>0</td>\n",
       "      <td>0</td>\n",
       "      <td>0</td>\n",
       "      <td>0</td>\n",
       "      <td>0</td>\n",
       "      <td>...</td>\n",
       "      <td>0</td>\n",
       "      <td>0</td>\n",
       "      <td>0</td>\n",
       "      <td>0</td>\n",
       "      <td>0</td>\n",
       "      <td>0</td>\n",
       "      <td>0</td>\n",
       "      <td>0</td>\n",
       "      <td>0</td>\n",
       "      <td>0</td>\n",
       "    </tr>\n",
       "    <tr>\n",
       "      <th>2</th>\n",
       "      <td>0</td>\n",
       "      <td>0</td>\n",
       "      <td>0</td>\n",
       "      <td>0</td>\n",
       "      <td>0</td>\n",
       "      <td>0</td>\n",
       "      <td>0</td>\n",
       "      <td>0</td>\n",
       "      <td>0</td>\n",
       "      <td>0</td>\n",
       "      <td>...</td>\n",
       "      <td>0</td>\n",
       "      <td>0</td>\n",
       "      <td>0</td>\n",
       "      <td>0</td>\n",
       "      <td>0</td>\n",
       "      <td>0</td>\n",
       "      <td>0</td>\n",
       "      <td>0</td>\n",
       "      <td>0</td>\n",
       "      <td>0</td>\n",
       "    </tr>\n",
       "    <tr>\n",
       "      <th>3</th>\n",
       "      <td>0</td>\n",
       "      <td>0</td>\n",
       "      <td>0</td>\n",
       "      <td>0</td>\n",
       "      <td>0</td>\n",
       "      <td>0</td>\n",
       "      <td>0</td>\n",
       "      <td>0</td>\n",
       "      <td>0</td>\n",
       "      <td>0</td>\n",
       "      <td>...</td>\n",
       "      <td>0</td>\n",
       "      <td>0</td>\n",
       "      <td>0</td>\n",
       "      <td>0</td>\n",
       "      <td>0</td>\n",
       "      <td>0</td>\n",
       "      <td>0</td>\n",
       "      <td>0</td>\n",
       "      <td>0</td>\n",
       "      <td>0</td>\n",
       "    </tr>\n",
       "    <tr>\n",
       "      <th>4</th>\n",
       "      <td>0</td>\n",
       "      <td>0</td>\n",
       "      <td>0</td>\n",
       "      <td>0</td>\n",
       "      <td>0</td>\n",
       "      <td>0</td>\n",
       "      <td>0</td>\n",
       "      <td>0</td>\n",
       "      <td>0</td>\n",
       "      <td>0</td>\n",
       "      <td>...</td>\n",
       "      <td>0</td>\n",
       "      <td>0</td>\n",
       "      <td>0</td>\n",
       "      <td>0</td>\n",
       "      <td>0</td>\n",
       "      <td>0</td>\n",
       "      <td>0</td>\n",
       "      <td>0</td>\n",
       "      <td>0</td>\n",
       "      <td>0</td>\n",
       "    </tr>\n",
       "  </tbody>\n",
       "</table>\n",
       "<p>5 rows × 4096 columns</p>\n",
       "</div>"
      ],
      "text/plain": [
       "   0     1     2     3     4     5     6     7     8     9     ...  4086  \\\n",
       "0     0     0     0     0     0     0     0     0     0     0  ...     0   \n",
       "1     0     0     0     0     0     0     0     0     0     0  ...     0   \n",
       "2     0     0     0     0     0     0     0     0     0     0  ...     0   \n",
       "3     0     0     0     0     0     0     0     0     0     0  ...     0   \n",
       "4     0     0     0     0     0     0     0     0     0     0  ...     0   \n",
       "\n",
       "   4087  4088  4089  4090  4091  4092  4093  4094  4095  \n",
       "0     0     0     0     0     0     0     0     0     0  \n",
       "1     0     0     0     0     0     0     0     0     0  \n",
       "2     0     0     0     0     0     0     0     0     0  \n",
       "3     0     0     0     0     0     0     0     0     0  \n",
       "4     0     0     0     0     0     0     0     0     0  \n",
       "\n",
       "[5 rows x 4096 columns]"
      ]
     },
     "execution_count": 2,
     "metadata": {},
     "output_type": "execute_result"
    }
   ],
   "source": [
    "\n",
    "# Training letters images and labels files\n",
    "letters_training_images_file_path = \"training images.zip\"\n",
    "letters_training_labels_file_path = \"training labels.zip\"\n",
    "# Testing letters images and labels files\n",
    "letters_testing_images_file_path = \"testing images.zip\"\n",
    "letters_testing_labels_file_path = \"testing labels.zip\"\n",
    "\n",
    "# Loading dataset into dataframes\n",
    "training_letters_images = pd.read_csv(letters_training_images_file_path, compression='zip', header=None)\n",
    "training_letters_labels = pd.read_csv(letters_training_labels_file_path, compression='zip', header=None)\n",
    "testing_letters_images = pd.read_csv(letters_testing_images_file_path, compression='zip', header=None)\n",
    "testing_letters_labels = pd.read_csv(letters_testing_labels_file_path, compression='zip', header=None)\n",
    "\n",
    "# print statistics about the dataset\n",
    "print(\"There are %d training arabic letter images of 64x64 pixels.\" %training_letters_images.shape[0])\n",
    "print(\"There are %d testing arabic letter images of 64x64 pixels.\" %testing_letters_images.shape[0])\n",
    "training_letters_images.head()"
   ]
  },
  {
   "cell_type": "markdown",
   "id": "dbee89fa",
   "metadata": {},
   "source": [
    "### Loading Arabic Digits Dataset"
   ]
  },
  {
   "cell_type": "code",
   "execution_count": 3,
   "id": "4a332556",
   "metadata": {},
   "outputs": [
    {
     "name": "stdout",
     "output_type": "stream",
     "text": [
      "There are 13440 training arabic digit images of 64x64 pixels.\n",
      "There are 3360 testing arabic digit images of 64x64 pixels.\n"
     ]
    }
   ],
   "source": [
    "# Training digits images and labels files\n",
    "digits_training_images_file_path = \"training images digit.zip\"\n",
    "digits_training_labels_file_path = \"training labels digit.zip\"\n",
    "# Testing digits images and labels files\n",
    "digits_testing_images_file_path = \"testing images digit.zip\"\n",
    "digits_testing_labels_file_path = \"testing labels digit.zip\"\n",
    "\n",
    "# Loading dataset into dataframes\n",
    "training_digits_images = pd.read_csv(digits_training_images_file_path, compression='zip', header=None)\n",
    "training_digits_labels = pd.read_csv(digits_training_labels_file_path, compression='zip', header=None)\n",
    "testing_digits_images = pd.read_csv(digits_testing_images_file_path, compression='zip', header=None)\n",
    "testing_digits_labels = pd.read_csv(digits_testing_labels_file_path, compression='zip', header=None)\n",
    "\n",
    "# print statistics about the dataset\n",
    "print(\"There are %d training arabic digit images of 64x64 pixels.\" %training_digits_images.shape[0])\n",
    "print(\"There are %d testing arabic digit images of 64x64 pixels.\" %testing_digits_images.shape[0])"
   ]
  },
  {
   "cell_type": "markdown",
   "id": "eddf4951",
   "metadata": {},
   "source": [
    "### Convert csv values to an image"
   ]
  },
  {
   "cell_type": "markdown",
   "id": "ddd97b43",
   "metadata": {},
   "source": [
    "Writting a method to be used later if we want visualization of an image from its pixels values."
   ]
  },
  {
   "cell_type": "code",
   "execution_count": 4,
   "id": "5b2d7879",
   "metadata": {},
   "outputs": [],
   "source": [
    "\n",
    "def convert_values_to_image(image_values, display=False):\n",
    "  image_array = np.asarray(image_values)\n",
    "  image_array = image_array.reshape(64, 64).astype('uint8')\n",
    "  # The original dataset is reflected so we will flip it then rotate for a better view only.\n",
    "  image_array = np.flip(image_array, 0)\n",
    "  image_array = rotate(image_array, -90)\n",
    "  new_image = Image.fromarray(image_array)\n",
    "  if display == True:\n",
    "    new_image.show()\n",
    "  return new_image"
   ]
  },
  {
   "cell_type": "markdown",
   "id": "431ec80d",
   "metadata": {},
   "source": [
    "### Visualizing some examples"
   ]
  },
  {
   "cell_type": "code",
   "execution_count": 5,
   "id": "52e6fe74",
   "metadata": {},
   "outputs": [
    {
     "data": {
      "image/png": "[encoded data removed]",
      "text/plain": [
       "<PIL.Image.Image image mode=L size=64x64>"
      ]
     },
     "execution_count": 5,
     "metadata": {},
     "output_type": "execute_result"
    }
   ],
   "source": [
    "convert_values_to_image(training_letters_images.loc[0], True)"
   ]
  },
  {
   "cell_type": "code",
   "execution_count": 6,
   "id": "06a4d8b2",
   "metadata": {},
   "outputs": [
    {
     "data": {
      "image/png": "[encoded data removed]",
      "text/plain": [
       "<PIL.Image.Image image mode=L size=64x64>"
      ]
     },
     "execution_count": 6,
     "metadata": {},
     "output_type": "execute_result"
    }
   ],
   "source": [
    "convert_values_to_image(training_letters_images.loc[12], True)"
   ]
  },
  {
   "cell_type": "code",
   "execution_count": 7,
   "id": "87229a93",
   "metadata": {},
   "outputs": [
    {
     "data": {
      "image/png": "[encoded data removed]",
      "text/plain": [
       "<PIL.Image.Image image mode=L size=64x64>"
      ]
     },
     "execution_count": 7,
     "metadata": {},
     "output_type": "execute_result"
    }
   ],
   "source": [
    "convert_values_to_image(training_letters_images.loc[37], True)\n"
   ]
  },
  {
   "cell_type": "code",
   "execution_count": 8,
   "id": "fc1b828a",
   "metadata": {},
   "outputs": [
    {
     "data": {
      "image/png": "[encoded data removed]",
      "text/plain": [
       "<PIL.Image.Image image mode=L size=64x64>"
      ]
     },
     "execution_count": 8,
     "metadata": {},
     "output_type": "execute_result"
    }
   ],
   "source": [
    "convert_values_to_image(training_letters_images.loc[3000], True)"
   ]
  },
  {
   "cell_type": "code",
   "execution_count": 9,
   "id": "f9940880",
   "metadata": {},
   "outputs": [
    {
     "data": {
      "image/png": "[encoded data removed]",
      "text/plain": [
       "<PIL.Image.Image image mode=L size=64x64>"
      ]
     },
     "execution_count": 9,
     "metadata": {},
     "output_type": "execute_result"
    }
   ],
   "source": [
    "\n",
    "convert_values_to_image(training_digits_images.loc[0], True)"
   ]
  },
  {
   "cell_type": "code",
   "execution_count": 10,
   "id": "c1596109",
   "metadata": {},
   "outputs": [
    {
     "data": {
      "image/png": "[encoded data removed]",
      "text/plain": [
       "<PIL.Image.Image image mode=L size=64x64>"
      ]
     },
     "execution_count": 10,
     "metadata": {},
     "output_type": "execute_result"
    }
   ],
   "source": [
    "convert_values_to_image(training_digits_images.loc[2], True)"
   ]
  },
  {
   "cell_type": "code",
   "execution_count": 11,
   "id": "c557b28b",
   "metadata": {},
   "outputs": [
    {
     "data": {
      "image/png": "[encoded data removed]",
      "text/plain": [
       "<PIL.Image.Image image mode=L size=64x64>"
      ]
     },
     "execution_count": 11,
     "metadata": {},
     "output_type": "execute_result"
    }
   ],
   "source": [
    "convert_values_to_image(training_digits_images.loc[7], True)"
   ]
  },
  {
   "cell_type": "code",
   "execution_count": 12,
   "id": "9b44a2ef",
   "metadata": {},
   "outputs": [
    {
     "data": {
      "image/png": "[encoded data removed]",
      "text/plain": [
       "<PIL.Image.Image image mode=L size=64x64>"
      ]
     },
     "execution_count": 12,
     "metadata": {},
     "output_type": "execute_result"
    }
   ],
   "source": [
    "convert_values_to_image(training_digits_images.loc[9], True)"
   ]
  },
  {
   "cell_type": "markdown",
   "id": "1bc9082c",
   "metadata": {},
   "source": [
    "### Data Preprocessing"
   ]
  },
  {
   "cell_type": "markdown",
   "id": "5c12a142",
   "metadata": {},
   "source": [
    "#### Image Normalization"
   ]
  },
  {
   "cell_type": "markdown",
   "id": "3e709e6e",
   "metadata": {},
   "source": [
    "We rescale the images by dividing every pixel in the image by 255 to make them into range [0, 1]"
   ]
  },
  {
   "cell_type": "code",
   "execution_count": 13,
   "id": "b8d4b5ea",
   "metadata": {},
   "outputs": [],
   "source": [
    "training_digits_images_scaled = training_digits_images.values.astype('float32')/255\n",
    "training_digits_labels = training_digits_labels.values.astype('int32')\n",
    "testing_digits_images_scaled = testing_digits_images.values.astype('float32')/255\n",
    "testing_digits_labels = testing_digits_labels.values.astype('int32')\n",
    "\n",
    "training_letters_images_scaled = training_letters_images.values.astype('float32')/255\n",
    "training_letters_labels = training_letters_labels.values.astype('int32')\n",
    "testing_letters_images_scaled = testing_letters_images.values.astype('float32')/255\n",
    "testing_letters_labels = testing_letters_labels.values.astype('int32')"
   ]
  },
  {
   "cell_type": "code",
   "execution_count": 14,
   "id": "53134a01",
   "metadata": {},
   "outputs": [
    {
     "name": "stdout",
     "output_type": "stream",
     "text": [
      "Training images of digits after scaling\n",
      "(13440, 4096)\n"
     ]
    },
    {
     "data": {
      "text/plain": [
       "array([[0., 0., 0., ..., 0., 0., 0.],\n",
       "       [0., 0., 0., ..., 0., 0., 0.],\n",
       "       [0., 0., 0., ..., 0., 0., 0.],\n",
       "       [0., 0., 0., ..., 0., 0., 0.],\n",
       "       [0., 0., 0., ..., 0., 0., 0.]], dtype=float32)"
      ]
     },
     "execution_count": 14,
     "metadata": {},
     "output_type": "execute_result"
    }
   ],
   "source": [
    "print(\"Training images of digits after scaling\")\n",
    "print(training_digits_images_scaled.shape)\n",
    "training_digits_images_scaled[0:5]\n",
    "     "
   ]
  },
  {
   "cell_type": "code",
   "execution_count": 15,
   "id": "6469e7ca",
   "metadata": {},
   "outputs": [
    {
     "name": "stdout",
     "output_type": "stream",
     "text": [
      "Training images of letters after scaling\n",
      "(13440, 4096)\n"
     ]
    },
    {
     "data": {
      "text/plain": [
       "array([[0., 0., 0., ..., 0., 0., 0.],\n",
       "       [0., 0., 0., ..., 0., 0., 0.],\n",
       "       [0., 0., 0., ..., 0., 0., 0.],\n",
       "       [0., 0., 0., ..., 0., 0., 0.],\n",
       "       [0., 0., 0., ..., 0., 0., 0.]], dtype=float32)"
      ]
     },
     "execution_count": 15,
     "metadata": {},
     "output_type": "execute_result"
    }
   ],
   "source": [
    "print(\"Training images of letters after scaling\")\n",
    "print(training_letters_images_scaled.shape)\n",
    "training_letters_images_scaled[0:5]"
   ]
  },
  {
   "cell_type": "markdown",
   "id": "0d1c6517",
   "metadata": {},
   "source": [
    "### Encoding Categorical Labels"
   ]
  },
  {
   "cell_type": "code",
   "execution_count": 16,
   "id": "656553bd",
   "metadata": {},
   "outputs": [],
   "source": [
    "from keras.utils import to_categorical\n",
    "\n",
    "# one hot encoding\n",
    "# number of classes = 10 (digits classes) + 28 (arabic alphabet classes)\n",
    "number_of_classes = 38\n",
    "training_letters_labels_encoded = to_categorical(training_letters_labels, num_classes=number_of_classes)\n",
    "testing_letters_labels_encoded = to_categorical(testing_letters_labels, num_classes=number_of_classes)\n",
    "training_digits_labels_encoded = to_categorical(training_digits_labels, num_classes=number_of_classes)\n",
    "testing_digits_labels_encoded = to_categorical(testing_digits_labels, num_classes=number_of_classes)"
   ]
  },
  {
   "cell_type": "code",
   "execution_count": 17,
   "id": "23bfcb7d",
   "metadata": {},
   "outputs": [
    {
     "name": "stdout",
     "output_type": "stream",
     "text": [
      "[[0. 0. 0. ... 0. 0. 0.]\n",
      " [0. 0. 0. ... 0. 0. 0.]\n",
      " [0. 0. 0. ... 0. 0. 0.]\n",
      " ...\n",
      " [0. 0. 0. ... 0. 0. 1.]\n",
      " [0. 0. 0. ... 0. 0. 1.]\n",
      " [0. 0. 0. ... 0. 0. 1.]]\n"
     ]
    }
   ],
   "source": [
    "print(training_digits_labels_encoded)"
   ]
  },
  {
   "cell_type": "markdown",
   "id": "87f0c188",
   "metadata": {},
   "source": [
    "### Reshaping Input Images to 64x64x1"
   ]
  },
  {
   "cell_type": "markdown",
   "id": "b92b978b",
   "metadata": {},
   "source": [
    "When using TensorFlow as backend, Keras CNNs require a 4D array (which we'll also refer to as a 4D tensor) as input, with shape (nb_samples,rows,columns,channels)\n",
    "\n",
    "where nb_samples corresponds to the total number of images (or samples), and rows, columns, and channels correspond to the number of rows, columns, and channels for each image, respectively."
   ]
  },
  {
   "cell_type": "markdown",
   "id": "728dca49",
   "metadata": {},
   "source": [
    "##### So we will reshape the input images to a 4D tensor with shape (nb_samples, 64, 64 ,1) as we use grayscale images of 64x64 pixels."
   ]
  },
  {
   "cell_type": "code",
   "execution_count": 18,
   "id": "5b44d5f5",
   "metadata": {},
   "outputs": [
    {
     "name": "stdout",
     "output_type": "stream",
     "text": [
      "(13440, 64, 64, 1) (13440, 38) (3360, 64, 64, 1) (3360, 38)\n",
      "(13440, 64, 64, 1) (13440, 38) (3360, 64, 64, 1) (3360, 38)\n"
     ]
    }
   ],
   "source": [
    "# reshape input digit images to 64x64x1\n",
    "training_digits_images_scaled = training_digits_images_scaled.reshape([-1, 64, 64, 1])\n",
    "testing_digits_images_scaled = testing_digits_images_scaled.reshape([-1, 64, 64, 1])\n",
    "\n",
    "# reshape input letter images to 64x64x1\n",
    "training_letters_images_scaled = training_letters_images_scaled.reshape([-1, 64, 64, 1])\n",
    "testing_letters_images_scaled = testing_letters_images_scaled.reshape([-1, 64, 64, 1])\n",
    "\n",
    "print(training_digits_images_scaled.shape, training_digits_labels_encoded.shape, testing_digits_images_scaled.shape, testing_digits_labels_encoded.shape)\n",
    "print(training_letters_images_scaled.shape, training_letters_labels_encoded.shape, testing_letters_images_scaled.shape, testing_letters_labels_encoded.shape)\n"
   ]
  },
  {
   "cell_type": "markdown",
   "id": "75c76905",
   "metadata": {},
   "source": [
    "#### Merging Letters and Digits Datasets"
   ]
  },
  {
   "cell_type": "code",
   "execution_count": 19,
   "id": "3d0e496f",
   "metadata": {},
   "outputs": [
    {
     "name": "stdout",
     "output_type": "stream",
     "text": [
      "Total Training images are 26880 images of shape\n",
      "(26880, 64, 64, 1) (26880, 38)\n",
      "Total Testing images are 6720 images of shape\n",
      "(6720, 64, 64, 1) (6720, 38)\n"
     ]
    }
   ],
   "source": [
    "training_data_images = np.concatenate((training_digits_images_scaled, training_letters_images_scaled), axis=0) \n",
    "training_data_labels = np.concatenate((training_digits_labels_encoded, training_letters_labels_encoded), axis=0)\n",
    "print(\"Total Training images are {} images of shape\".format(training_data_images.shape[0]))\n",
    "print(training_data_images.shape, training_data_labels.shape)\n",
    "\n",
    "\n",
    "testing_data_images = np.concatenate((testing_digits_images_scaled, testing_letters_images_scaled), axis=0) \n",
    "testing_data_labels = np.concatenate((testing_digits_labels_encoded, testing_letters_labels_encoded), axis=0)\n",
    "print(\"Total Testing images are {} images of shape\".format(testing_data_images.shape[0]))\n",
    "print(testing_data_images.shape, testing_data_labels.shape)"
   ]
  },
  {
   "cell_type": "markdown",
   "id": "2b29e0cd",
   "metadata": {},
   "source": [
    "#### Designing Model Architecture"
   ]
  },
  {
   "cell_type": "markdown",
   "id": "d24099f2",
   "metadata": {},
   "source": [
    "Now we will make a method which creates the model architecture with the specified optimizer and activation functions."
   ]
  },
  {
   "cell_type": "code",
   "execution_count": 20,
   "id": "f03f5f8f",
   "metadata": {},
   "outputs": [],
   "source": [
    "\n",
    "from keras.models import Sequential\n",
    "from keras.layers import Conv2D, MaxPooling2D, GlobalAveragePooling2D, BatchNormalization, Dropout, Dense\n",
    "\n",
    "def create_model(optimizer='adam', kernel_initializer='he_normal', activation='relu'):\n",
    "  # create model\n",
    "  model = Sequential()\n",
    "  model.add(Conv2D(filters=16, kernel_size=3, padding='same', input_shape=(64, 64, 1), kernel_initializer=kernel_initializer, activation=activation))\n",
    "  model.add(BatchNormalization())\n",
    "  model.add(MaxPooling2D(pool_size=2))\n",
    "  model.add(Dropout(0.2))\n",
    "\n",
    "  model.add(Conv2D(filters=32, kernel_size=3, padding='same', kernel_initializer=kernel_initializer, activation=activation))\n",
    "  model.add(BatchNormalization())\n",
    "  model.add(MaxPooling2D(pool_size=2))\n",
    "  model.add(Dropout(0.2))\n",
    "\n",
    "  model.add(Conv2D(filters=64, kernel_size=3, padding='same', kernel_initializer=kernel_initializer, activation=activation))\n",
    "  model.add(BatchNormalization())\n",
    "  model.add(MaxPooling2D(pool_size=2))\n",
    "  model.add(Dropout(0.2))\n",
    "\n",
    "  model.add(Conv2D(filters=128, kernel_size=3, padding='same', kernel_initializer=kernel_initializer, activation=activation))\n",
    "  model.add(BatchNormalization())\n",
    "  model.add(MaxPooling2D(pool_size=2))\n",
    "  model.add(Dropout(0.2))\n",
    "  model.add(GlobalAveragePooling2D())\n",
    "  \n",
    "  #Fully connected final layer\n",
    "  model.add(Dense(38, activation='softmax'))\n",
    "\n",
    "  # Compile model\n",
    "  model.compile(loss='categorical_crossentropy', metrics=['accuracy'], optimizer=optimizer)\n",
    "  return model"
   ]
  },
  {
   "cell_type": "markdown",
   "id": "c7f0737a",
   "metadata": {},
   "source": [
    "#### Model Summary And Visualization"
   ]
  },
  {
   "cell_type": "code",
   "execution_count": 21,
   "id": "29ff66a3",
   "metadata": {},
   "outputs": [
    {
     "name": "stdout",
     "output_type": "stream",
     "text": [
      "Model: \"sequential\"\n",
      "_________________________________________________________________\n",
      " Layer (type)                Output Shape              Param #   \n",
      "=================================================================\n",
      " conv2d (Conv2D)             (None, 64, 64, 16)        160       \n",
      "                                                                 \n",
      " batch_normalization (BatchN  (None, 64, 64, 16)       64        \n",
      " ormalization)                                                   \n",
      "                                                                 \n",
      " max_pooling2d (MaxPooling2D  (None, 32, 32, 16)       0         \n",
      " )                                                               \n",
      "                                                                 \n",
      " dropout (Dropout)           (None, 32, 32, 16)        0         \n",
      "                                                                 \n",
      " conv2d_1 (Conv2D)           (None, 32, 32, 32)        4640      \n",
      "                                                                 \n",
      " batch_normalization_1 (Batc  (None, 32, 32, 32)       128       \n",
      " hNormalization)                                                 \n",
      "                                                                 \n",
      " max_pooling2d_1 (MaxPooling  (None, 16, 16, 32)       0         \n",
      " 2D)                                                             \n",
      "                                                                 \n",
      " dropout_1 (Dropout)         (None, 16, 16, 32)        0         \n",
      "                                                                 \n",
      " conv2d_2 (Conv2D)           (None, 16, 16, 64)        18496     \n",
      "                                                                 \n",
      " batch_normalization_2 (Batc  (None, 16, 16, 64)       256       \n",
      " hNormalization)                                                 \n",
      "                                                                 \n",
      " max_pooling2d_2 (MaxPooling  (None, 8, 8, 64)         0         \n",
      " 2D)                                                             \n",
      "                                                                 \n",
      " dropout_2 (Dropout)         (None, 8, 8, 64)          0         \n",
      "                                                                 \n",
      " conv2d_3 (Conv2D)           (None, 8, 8, 128)         73856     \n",
      "                                                                 \n",
      " batch_normalization_3 (Batc  (None, 8, 8, 128)        512       \n",
      " hNormalization)                                                 \n",
      "                                                                 \n",
      " max_pooling2d_3 (MaxPooling  (None, 4, 4, 128)        0         \n",
      " 2D)                                                             \n",
      "                                                                 \n",
      " dropout_3 (Dropout)         (None, 4, 4, 128)         0         \n",
      "                                                                 \n",
      " global_average_pooling2d (G  (None, 128)              0         \n",
      " lobalAveragePooling2D)                                          \n",
      "                                                                 \n",
      " dense (Dense)               (None, 38)                4902      \n",
      "                                                                 \n",
      "=================================================================\n",
      "Total params: 103,014\n",
      "Trainable params: 102,534\n",
      "Non-trainable params: 480\n",
      "_________________________________________________________________\n"
     ]
    }
   ],
   "source": [
    "model = create_model()\n",
    "model.summary()"
   ]
  },
  {
   "cell_type": "markdown",
   "id": "17ff386e",
   "metadata": {},
   "source": [
    "Keras support plotting the model in keras.utils.vis_utils module which provides utility functions to plot a Keras model using graphviz.\n",
    "\n",
    "To be able to use that utility we should first install pydot and graphviz modules. This can be done by running the following code cell then restart the runtime environment."
   ]
  },
  {
   "cell_type": "code",
   "execution_count": 22,
   "id": "27fcf860",
   "metadata": {},
   "outputs": [],
   "source": [
    "import pydot"
   ]
  },
  {
   "cell_type": "markdown",
   "id": "c4c85b2e",
   "metadata": {},
   "source": [
    "Now we can plot the model and save it to a file also."
   ]
  },
  {
   "cell_type": "markdown",
   "id": "1df949b0",
   "metadata": {},
   "source": [
    "### Parameters Tuning"
   ]
  },
  {
   "cell_type": "markdown",
   "id": "45338027",
   "metadata": {},
   "source": [
    "We will tune the parameters optimizer, kernel_initializer and activation."
   ]
  },
  {
   "cell_type": "code",
   "execution_count": 23,
   "id": "78e9efc2",
   "metadata": {},
   "outputs": [
    {
     "name": "stdout",
     "output_type": "stream",
     "text": [
      "Number of different parameter combinations = 24\n"
     ]
    }
   ],
   "source": [
    "# fix random seed for reproducibility\n",
    "seed = 7\n",
    "np.random.seed(seed)\n",
    "\n",
    "# define the grid search parameters\n",
    "optimizer = ['RMSprop', 'Adam', 'Adagrad', 'Nadam']\n",
    "kernel_initializer = ['normal', 'uniform']\n",
    "activation = ['relu', 'linear', 'tanh']\n",
    "\n",
    "param_grid = dict(optimizer=optimizer, kernel_initializer=kernel_initializer, activation=activation)\n",
    "\n",
    "# count number of different parameters values combinations\n",
    "parameters_number = 1\n",
    "for x in param_grid:\n",
    "  parameters_number = parameters_number * len(param_grid[x]) \n",
    "print(\"Number of different parameter combinations = {}\".format(parameters_number))"
   ]
  },
  {
   "cell_type": "markdown",
   "id": "7d2bda65",
   "metadata": {},
   "source": [
    "We will try different models with different parameters to find the best parameter values."
   ]
  },
  {
   "cell_type": "code",
   "execution_count": 24,
   "id": "4b5edea9",
   "metadata": {},
   "outputs": [
    {
     "name": "stdout",
     "output_type": "stream",
     "text": [
      "{'optimizer': 'RMSprop', 'kernel_initializer': 'normal', 'activation': 'relu'}\n",
      "Epoch 1/5\n",
      "1344/1344 [==============================] - 59s 43ms/step - loss: 0.9536 - accuracy: 0.7323 - val_loss: 0.7329 - val_accuracy: 0.7872\n",
      "Epoch 2/5\n",
      "1344/1344 [==============================] - 56s 41ms/step - loss: 0.2612 - accuracy: 0.9210 - val_loss: 0.7494 - val_accuracy: 0.7836\n",
      "Epoch 3/5\n",
      "1344/1344 [==============================] - 55s 41ms/step - loss: 0.1848 - accuracy: 0.9442 - val_loss: 3.3347 - val_accuracy: 0.5205\n",
      "Epoch 4/5\n",
      "1344/1344 [==============================] - 55s 41ms/step - loss: 0.1587 - accuracy: 0.9505 - val_loss: 0.4174 - val_accuracy: 0.8723\n",
      "Epoch 5/5\n",
      "1344/1344 [==============================] - 56s 42ms/step - loss: 0.1405 - accuracy: 0.9553 - val_loss: 0.3621 - val_accuracy: 0.8902\n",
      "=============================================================================\n",
      "{'optimizer': 'RMSprop', 'kernel_initializer': 'uniform', 'activation': 'relu'}\n",
      "Epoch 1/5\n",
      "1344/1344 [==============================] - 57s 41ms/step - loss: 0.7943 - accuracy: 0.7811 - val_loss: 0.6066 - val_accuracy: 0.8188\n",
      "Epoch 2/5\n",
      "1344/1344 [==============================] - 57s 42ms/step - loss: 0.2216 - accuracy: 0.9315 - val_loss: 0.5590 - val_accuracy: 0.8205\n",
      "Epoch 3/5\n",
      "1344/1344 [==============================] - 56s 41ms/step - loss: 0.1669 - accuracy: 0.9483 - val_loss: 0.2353 - val_accuracy: 0.9310\n",
      "Epoch 4/5\n",
      "1344/1344 [==============================] - 56s 42ms/step - loss: 0.1448 - accuracy: 0.9543 - val_loss: 0.2767 - val_accuracy: 0.9131\n",
      "Epoch 5/5\n",
      "1344/1344 [==============================] - 56s 42ms/step - loss: 0.1233 - accuracy: 0.9623 - val_loss: 0.2062 - val_accuracy: 0.9497\n",
      "=============================================================================\n",
      "{'optimizer': 'RMSprop', 'kernel_initializer': 'normal', 'activation': 'linear'}\n",
      "Epoch 1/5\n",
      "1344/1344 [==============================] - 56s 41ms/step - loss: 1.7001 - accuracy: 0.5012 - val_loss: 6.0968 - val_accuracy: 0.1890\n",
      "Epoch 2/5\n",
      "1344/1344 [==============================] - 55s 41ms/step - loss: 0.7503 - accuracy: 0.7737 - val_loss: 0.7608 - val_accuracy: 0.7458\n",
      "Epoch 3/5\n",
      "1344/1344 [==============================] - 55s 41ms/step - loss: 0.5299 - accuracy: 0.8395 - val_loss: 0.9750 - val_accuracy: 0.6821\n",
      "Epoch 4/5\n",
      "1344/1344 [==============================] - 55s 41ms/step - loss: 0.4282 - accuracy: 0.8685 - val_loss: 8.7157 - val_accuracy: 0.1298\n",
      "Epoch 5/5\n",
      "1344/1344 [==============================] - 51s 38ms/step - loss: 0.3696 - accuracy: 0.8827 - val_loss: 1.4809 - val_accuracy: 0.5920\n",
      "=============================================================================\n",
      "{'optimizer': 'RMSprop', 'kernel_initializer': 'uniform', 'activation': 'linear'}\n",
      "Epoch 1/5\n",
      "1344/1344 [==============================] - 53s 39ms/step - loss: 1.4901 - accuracy: 0.5654 - val_loss: 8.1597 - val_accuracy: 0.0863\n",
      "Epoch 2/5\n",
      "1344/1344 [==============================] - 52s 39ms/step - loss: 0.6480 - accuracy: 0.8078 - val_loss: 2.8054 - val_accuracy: 0.3399\n",
      "Epoch 3/5\n",
      "1344/1344 [==============================] - 54s 40ms/step - loss: 0.4763 - accuracy: 0.8546 - val_loss: 1.6801 - val_accuracy: 0.4929\n",
      "Epoch 4/5\n",
      "1344/1344 [==============================] - 86s 64ms/step - loss: 0.3972 - accuracy: 0.8771 - val_loss: 0.7085 - val_accuracy: 0.7720\n",
      "Epoch 5/5\n",
      "1344/1344 [==============================] - 86s 64ms/step - loss: 0.3390 - accuracy: 0.8943 - val_loss: 1.6741 - val_accuracy: 0.5902\n",
      "=============================================================================\n",
      "{'optimizer': 'RMSprop', 'kernel_initializer': 'normal', 'activation': 'tanh'}\n",
      "Epoch 1/5\n",
      "1344/1344 [==============================] - 86s 63ms/step - loss: 1.5944 - accuracy: 0.5483 - val_loss: 10.4402 - val_accuracy: 0.0926\n",
      "Epoch 2/5\n",
      "1344/1344 [==============================] - 86s 64ms/step - loss: 0.5061 - accuracy: 0.8483 - val_loss: 15.7924 - val_accuracy: 0.1390\n",
      "Epoch 3/5\n",
      "1344/1344 [==============================] - 86s 64ms/step - loss: 0.3647 - accuracy: 0.8869 - val_loss: 12.6213 - val_accuracy: 0.1440\n",
      "Epoch 4/5\n",
      "1344/1344 [==============================] - 88s 65ms/step - loss: 0.3165 - accuracy: 0.9010 - val_loss: 7.2916 - val_accuracy: 0.1917\n",
      "Epoch 5/5\n",
      "1344/1344 [==============================] - 63s 47ms/step - loss: 0.2888 - accuracy: 0.9089 - val_loss: 9.5076 - val_accuracy: 0.2155\n",
      "=============================================================================\n",
      "{'optimizer': 'RMSprop', 'kernel_initializer': 'uniform', 'activation': 'tanh'}\n",
      "Epoch 1/5\n",
      "1344/1344 [==============================] - 50s 37ms/step - loss: 1.1570 - accuracy: 0.6760 - val_loss: 5.9114 - val_accuracy: 0.1292\n",
      "Epoch 2/5\n",
      "1344/1344 [==============================] - 50s 37ms/step - loss: 0.3530 - accuracy: 0.8949 - val_loss: 8.8074 - val_accuracy: 0.1375\n",
      "Epoch 3/5\n",
      "1344/1344 [==============================] - 50s 37ms/step - loss: 0.2743 - accuracy: 0.9153 - val_loss: 3.9633 - val_accuracy: 0.4033\n",
      "Epoch 4/5\n",
      "1344/1344 [==============================] - 50s 37ms/step - loss: 0.2445 - accuracy: 0.9249 - val_loss: 6.3067 - val_accuracy: 0.2991\n",
      "Epoch 5/5\n",
      "1344/1344 [==============================] - 51s 38ms/step - loss: 0.2345 - accuracy: 0.9266 - val_loss: 18.0478 - val_accuracy: 0.1161\n",
      "=============================================================================\n",
      "{'optimizer': 'Adam', 'kernel_initializer': 'normal', 'activation': 'relu'}\n",
      "Epoch 1/5\n",
      "1344/1344 [==============================] - 58s 42ms/step - loss: 1.0728 - accuracy: 0.7098 - val_loss: 7.8176 - val_accuracy: 0.1464\n",
      "Epoch 2/5\n",
      "1344/1344 [==============================] - 51s 38ms/step - loss: 0.2834 - accuracy: 0.9205 - val_loss: 0.2660 - val_accuracy: 0.9235\n",
      "Epoch 3/5\n",
      "1344/1344 [==============================] - 52s 39ms/step - loss: 0.1939 - accuracy: 0.9423 - val_loss: 3.2498 - val_accuracy: 0.3583\n",
      "Epoch 4/5\n",
      "1344/1344 [==============================] - 52s 39ms/step - loss: 0.1523 - accuracy: 0.9542 - val_loss: 2.7428 - val_accuracy: 0.5170\n",
      "Epoch 5/5\n",
      "1344/1344 [==============================] - 52s 39ms/step - loss: 0.1308 - accuracy: 0.9594 - val_loss: 0.3241 - val_accuracy: 0.9229\n",
      "=============================================================================\n",
      "{'optimizer': 'Adam', 'kernel_initializer': 'uniform', 'activation': 'relu'}\n",
      "Epoch 1/5\n",
      "1344/1344 [==============================] - 53s 38ms/step - loss: 0.8872 - accuracy: 0.7659 - val_loss: 9.8043 - val_accuracy: 0.1170\n",
      "Epoch 2/5\n",
      "1344/1344 [==============================] - 52s 39ms/step - loss: 0.2479 - accuracy: 0.9296 - val_loss: 0.3627 - val_accuracy: 0.9098\n",
      "Epoch 3/5\n",
      "1344/1344 [==============================] - 52s 39ms/step - loss: 0.1792 - accuracy: 0.9465 - val_loss: 0.2090 - val_accuracy: 0.9330\n",
      "Epoch 4/5\n",
      "1344/1344 [==============================] - 52s 39ms/step - loss: 0.1504 - accuracy: 0.9538 - val_loss: 0.6683 - val_accuracy: 0.8161\n",
      "Epoch 5/5\n",
      "1344/1344 [==============================] - 52s 39ms/step - loss: 0.1260 - accuracy: 0.9612 - val_loss: 0.2887 - val_accuracy: 0.9125\n",
      "=============================================================================\n",
      "{'optimizer': 'Adam', 'kernel_initializer': 'normal', 'activation': 'linear'}\n",
      "Epoch 1/5\n",
      "1344/1344 [==============================] - 55s 40ms/step - loss: 1.7442 - accuracy: 0.4933 - val_loss: 1.3657 - val_accuracy: 0.5440\n",
      "Epoch 2/5\n",
      "1344/1344 [==============================] - 50s 37ms/step - loss: 0.7382 - accuracy: 0.7820 - val_loss: 4.5498 - val_accuracy: 0.2244\n",
      "Epoch 3/5\n",
      "1344/1344 [==============================] - 51s 38ms/step - loss: 0.5181 - accuracy: 0.8468 - val_loss: 0.7588 - val_accuracy: 0.7604\n",
      "Epoch 4/5\n",
      "1344/1344 [==============================] - 50s 37ms/step - loss: 0.4216 - accuracy: 0.8713 - val_loss: 1.0619 - val_accuracy: 0.6693\n",
      "Epoch 5/5\n",
      "1344/1344 [==============================] - 51s 38ms/step - loss: 0.3580 - accuracy: 0.8882 - val_loss: 1.0894 - val_accuracy: 0.6970\n",
      "=============================================================================\n",
      "{'optimizer': 'Adam', 'kernel_initializer': 'uniform', 'activation': 'linear'}\n",
      "Epoch 1/5\n",
      "1344/1344 [==============================] - 49s 36ms/step - loss: 1.6122 - accuracy: 0.5344 - val_loss: 6.2089 - val_accuracy: 0.1369\n",
      "Epoch 2/5\n",
      "1344/1344 [==============================] - 48s 36ms/step - loss: 0.6885 - accuracy: 0.7981 - val_loss: 4.2804 - val_accuracy: 0.2655\n",
      "Epoch 3/5\n",
      "1344/1344 [==============================] - 48s 36ms/step - loss: 0.4961 - accuracy: 0.8522 - val_loss: 2.4080 - val_accuracy: 0.4643\n",
      "Epoch 4/5\n",
      "1344/1344 [==============================] - 47s 35ms/step - loss: 0.4083 - accuracy: 0.8756 - val_loss: 0.3078 - val_accuracy: 0.9018\n",
      "Epoch 5/5\n",
      "1344/1344 [==============================] - 48s 35ms/step - loss: 0.3577 - accuracy: 0.8906 - val_loss: 0.4165 - val_accuracy: 0.8693\n",
      "=============================================================================\n",
      "{'optimizer': 'Adam', 'kernel_initializer': 'normal', 'activation': 'tanh'}\n",
      "Epoch 1/5\n",
      "1344/1344 [==============================] - 50s 37ms/step - loss: 1.6425 - accuracy: 0.5507 - val_loss: 14.6059 - val_accuracy: 0.0357\n",
      "Epoch 2/5\n",
      "1344/1344 [==============================] - 49s 36ms/step - loss: 0.5160 - accuracy: 0.8516 - val_loss: 4.1379 - val_accuracy: 0.2598\n",
      "Epoch 3/5\n",
      "1344/1344 [==============================] - 48s 36ms/step - loss: 0.3637 - accuracy: 0.8894 - val_loss: 6.2386 - val_accuracy: 0.1973\n",
      "Epoch 4/5\n",
      "1344/1344 [==============================] - 48s 36ms/step - loss: 0.3062 - accuracy: 0.9071 - val_loss: 5.6508 - val_accuracy: 0.2455\n",
      "Epoch 5/5\n",
      "1344/1344 [==============================] - 53s 39ms/step - loss: 0.2703 - accuracy: 0.9154 - val_loss: 5.2775 - val_accuracy: 0.1658\n",
      "=============================================================================\n",
      "{'optimizer': 'Adam', 'kernel_initializer': 'uniform', 'activation': 'tanh'}\n",
      "Epoch 1/5\n",
      "1344/1344 [==============================] - 52s 38ms/step - loss: 1.2328 - accuracy: 0.6621 - val_loss: 2.0692 - val_accuracy: 0.5039\n",
      "Epoch 2/5\n",
      "1344/1344 [==============================] - 51s 38ms/step - loss: 0.3772 - accuracy: 0.8923 - val_loss: 6.1578 - val_accuracy: 0.1277\n",
      "Epoch 3/5\n",
      "1344/1344 [==============================] - 51s 38ms/step - loss: 0.2872 - accuracy: 0.9147 - val_loss: 10.7521 - val_accuracy: 0.1054\n",
      "Epoch 4/5\n",
      "1344/1344 [==============================] - 49s 37ms/step - loss: 0.2457 - accuracy: 0.9236 - val_loss: 3.7953 - val_accuracy: 0.2771\n",
      "Epoch 5/5\n",
      "1344/1344 [==============================] - 49s 36ms/step - loss: 0.2268 - accuracy: 0.9294 - val_loss: 5.6860 - val_accuracy: 0.1679\n",
      "=============================================================================\n",
      "{'optimizer': 'Adagrad', 'kernel_initializer': 'normal', 'activation': 'relu'}\n",
      "Epoch 1/5\n",
      "1344/1344 [==============================] - 53s 39ms/step - loss: 3.1185 - accuracy: 0.1364 - val_loss: 2.9195 - val_accuracy: 0.1777\n",
      "Epoch 2/5\n",
      "1344/1344 [==============================] - 52s 39ms/step - loss: 2.6585 - accuracy: 0.2528 - val_loss: 2.5950 - val_accuracy: 0.2360\n",
      "Epoch 3/5\n",
      "1344/1344 [==============================] - 52s 39ms/step - loss: 2.4118 - accuracy: 0.3282 - val_loss: 2.3740 - val_accuracy: 0.2949\n",
      "Epoch 4/5\n",
      "1344/1344 [==============================] - 52s 39ms/step - loss: 2.2343 - accuracy: 0.3831 - val_loss: 2.2054 - val_accuracy: 0.3476\n",
      "Epoch 5/5\n",
      "1344/1344 [==============================] - 52s 39ms/step - loss: 2.0867 - accuracy: 0.4268 - val_loss: 2.0478 - val_accuracy: 0.3958\n",
      "=============================================================================\n",
      "{'optimizer': 'Adagrad', 'kernel_initializer': 'uniform', 'activation': 'relu'}\n",
      "Epoch 1/5\n",
      "1344/1344 [==============================] - 52s 38ms/step - loss: 2.9707 - accuracy: 0.1911 - val_loss: 2.6440 - val_accuracy: 0.2586\n",
      "Epoch 2/5\n",
      "1344/1344 [==============================] - 51s 38ms/step - loss: 2.3506 - accuracy: 0.3650 - val_loss: 2.1661 - val_accuracy: 0.4247\n",
      "Epoch 3/5\n",
      "1344/1344 [==============================] - 51s 38ms/step - loss: 2.0155 - accuracy: 0.4706 - val_loss: 1.8310 - val_accuracy: 0.5170\n",
      "Epoch 4/5\n",
      "1344/1344 [==============================] - 51s 38ms/step - loss: 1.7808 - accuracy: 0.5511 - val_loss: 1.6838 - val_accuracy: 0.5247\n",
      "Epoch 5/5\n",
      "1344/1344 [==============================] - 51s 38ms/step - loss: 1.6035 - accuracy: 0.6095 - val_loss: 1.4750 - val_accuracy: 0.6247\n",
      "=============================================================================\n",
      "{'optimizer': 'Adagrad', 'kernel_initializer': 'normal', 'activation': 'linear'}\n",
      "Epoch 1/5\n",
      "1344/1344 [==============================] - 51s 37ms/step - loss: 3.2853 - accuracy: 0.0903 - val_loss: 3.2378 - val_accuracy: 0.0690\n",
      "Epoch 2/5\n",
      "1344/1344 [==============================] - 51s 38ms/step - loss: 3.0626 - accuracy: 0.1391 - val_loss: 3.1036 - val_accuracy: 0.0851\n",
      "Epoch 3/5\n",
      "1344/1344 [==============================] - 51s 38ms/step - loss: 2.9300 - accuracy: 0.1856 - val_loss: 2.9309 - val_accuracy: 0.1244\n",
      "Epoch 4/5\n",
      "1344/1344 [==============================] - 52s 38ms/step - loss: 2.8013 - accuracy: 0.2223 - val_loss: 2.7793 - val_accuracy: 0.1610\n",
      "Epoch 5/5\n",
      "1344/1344 [==============================] - 52s 39ms/step - loss: 2.6778 - accuracy: 0.2477 - val_loss: 2.6514 - val_accuracy: 0.1943\n",
      "=============================================================================\n",
      "{'optimizer': 'Adagrad', 'kernel_initializer': 'uniform', 'activation': 'linear'}\n",
      "Epoch 1/5\n",
      "1344/1344 [==============================] - 52s 39ms/step - loss: 3.2182 - accuracy: 0.0996 - val_loss: 3.0777 - val_accuracy: 0.1024\n",
      "Epoch 2/5\n",
      "1344/1344 [==============================] - 52s 39ms/step - loss: 2.8669 - accuracy: 0.2096 - val_loss: 2.7728 - val_accuracy: 0.1562\n",
      "Epoch 3/5\n",
      "1344/1344 [==============================] - 51s 38ms/step - loss: 2.6485 - accuracy: 0.2612 - val_loss: 2.6091 - val_accuracy: 0.1833\n",
      "Epoch 4/5\n",
      "1344/1344 [==============================] - 51s 38ms/step - loss: 2.5099 - accuracy: 0.3020 - val_loss: 2.4706 - val_accuracy: 0.2229\n",
      "Epoch 5/5\n",
      "1344/1344 [==============================] - 51s 38ms/step - loss: 2.3959 - accuracy: 0.3361 - val_loss: 2.3761 - val_accuracy: 0.2464\n",
      "=============================================================================\n",
      "{'optimizer': 'Adagrad', 'kernel_initializer': 'normal', 'activation': 'tanh'}\n",
      "Epoch 1/5\n",
      "1344/1344 [==============================] - 55s 40ms/step - loss: 3.3251 - accuracy: 0.0801 - val_loss: 3.1586 - val_accuracy: 0.0774\n",
      "Epoch 2/5\n",
      "1344/1344 [==============================] - 52s 38ms/step - loss: 3.0779 - accuracy: 0.1351 - val_loss: 3.0181 - val_accuracy: 0.1223\n",
      "Epoch 3/5\n",
      "1344/1344 [==============================] - 48s 36ms/step - loss: 2.9659 - accuracy: 0.1751 - val_loss: 2.9099 - val_accuracy: 0.1607\n",
      "Epoch 4/5\n",
      "1344/1344 [==============================] - 794s 591ms/step - loss: 2.8646 - accuracy: 0.2128 - val_loss: 2.8274 - val_accuracy: 0.1860\n",
      "Epoch 5/5\n",
      "1344/1344 [==============================] - 58s 43ms/step - loss: 2.7701 - accuracy: 0.2381 - val_loss: 2.7265 - val_accuracy: 0.2092\n",
      "=============================================================================\n",
      "{'optimizer': 'Adagrad', 'kernel_initializer': 'uniform', 'activation': 'tanh'}\n",
      "Epoch 1/5\n",
      "1344/1344 [==============================] - 59s 43ms/step - loss: 3.2056 - accuracy: 0.1105 - val_loss: 2.9742 - val_accuracy: 0.1027\n",
      "Epoch 2/5\n",
      "1344/1344 [==============================] - 58s 43ms/step - loss: 2.8859 - accuracy: 0.2133 - val_loss: 2.9065 - val_accuracy: 0.0905\n",
      "Epoch 3/5\n",
      "1344/1344 [==============================] - 58s 43ms/step - loss: 2.6036 - accuracy: 0.2929 - val_loss: 2.8707 - val_accuracy: 0.1045\n",
      "Epoch 4/5\n",
      "1344/1344 [==============================] - 58s 43ms/step - loss: 2.3574 - accuracy: 0.3673 - val_loss: 2.8961 - val_accuracy: 0.1193\n",
      "Epoch 5/5\n",
      "1344/1344 [==============================] - 58s 43ms/step - loss: 2.1611 - accuracy: 0.4285 - val_loss: 2.9567 - val_accuracy: 0.1268\n",
      "=============================================================================\n",
      "{'optimizer': 'Nadam', 'kernel_initializer': 'normal', 'activation': 'relu'}\n",
      "Epoch 1/5\n",
      "1344/1344 [==============================] - 56s 40ms/step - loss: 1.0224 - accuracy: 0.7235 - val_loss: 6.5749 - val_accuracy: 0.1863\n",
      "Epoch 2/5\n",
      "1344/1344 [==============================] - 53s 39ms/step - loss: 0.2783 - accuracy: 0.9209 - val_loss: 0.5153 - val_accuracy: 0.8497\n",
      "Epoch 3/5\n",
      "1344/1344 [==============================] - 53s 40ms/step - loss: 0.1931 - accuracy: 0.9424 - val_loss: 0.3616 - val_accuracy: 0.8929\n"
     ]
    },
    {
     "name": "stdout",
     "output_type": "stream",
     "text": [
      "Epoch 4/5\n",
      "1344/1344 [==============================] - 53s 39ms/step - loss: 0.1524 - accuracy: 0.9533 - val_loss: 0.6467 - val_accuracy: 0.8369\n",
      "Epoch 5/5\n",
      "1344/1344 [==============================] - 53s 39ms/step - loss: 0.1364 - accuracy: 0.9590 - val_loss: 0.2468 - val_accuracy: 0.9280\n",
      "=============================================================================\n",
      "{'optimizer': 'Nadam', 'kernel_initializer': 'uniform', 'activation': 'relu'}\n",
      "Epoch 1/5\n",
      "1344/1344 [==============================] - 65s 46ms/step - loss: 0.8594 - accuracy: 0.7723 - val_loss: 0.7070 - val_accuracy: 0.7818\n",
      "Epoch 2/5\n",
      "1344/1344 [==============================] - 62s 46ms/step - loss: 0.2401 - accuracy: 0.9317 - val_loss: 2.0023 - val_accuracy: 0.4155\n",
      "Epoch 3/5\n",
      "1344/1344 [==============================] - 62s 46ms/step - loss: 0.1726 - accuracy: 0.9481 - val_loss: 0.4576 - val_accuracy: 0.8735\n",
      "Epoch 4/5\n",
      "1344/1344 [==============================] - 62s 46ms/step - loss: 0.1468 - accuracy: 0.9541 - val_loss: 1.4532 - val_accuracy: 0.6423\n",
      "Epoch 5/5\n",
      "1344/1344 [==============================] - 63s 47ms/step - loss: 0.1278 - accuracy: 0.9601 - val_loss: 0.1605 - val_accuracy: 0.9497\n",
      "=============================================================================\n",
      "{'optimizer': 'Nadam', 'kernel_initializer': 'normal', 'activation': 'linear'}\n",
      "Epoch 1/5\n",
      "1344/1344 [==============================] - 61s 44ms/step - loss: 1.7176 - accuracy: 0.5015 - val_loss: 20.6580 - val_accuracy: 0.0357\n",
      "Epoch 2/5\n",
      "1344/1344 [==============================] - 59s 44ms/step - loss: 0.7230 - accuracy: 0.7926 - val_loss: 2.3023 - val_accuracy: 0.4435\n",
      "Epoch 3/5\n",
      "1344/1344 [==============================] - 58s 43ms/step - loss: 0.5017 - accuracy: 0.8505 - val_loss: 5.8223 - val_accuracy: 0.2702\n",
      "Epoch 4/5\n",
      "1344/1344 [==============================] - 58s 43ms/step - loss: 0.4157 - accuracy: 0.8731 - val_loss: 2.7096 - val_accuracy: 0.3857\n",
      "Epoch 5/5\n",
      "1344/1344 [==============================] - 58s 43ms/step - loss: 0.3540 - accuracy: 0.8926 - val_loss: 0.9127 - val_accuracy: 0.6753\n",
      "=============================================================================\n",
      "{'optimizer': 'Nadam', 'kernel_initializer': 'uniform', 'activation': 'linear'}\n",
      "Epoch 1/5\n",
      "1344/1344 [==============================] - 61s 44ms/step - loss: 1.5529 - accuracy: 0.5586 - val_loss: 17.8656 - val_accuracy: 0.0402\n",
      "Epoch 2/5\n",
      "1344/1344 [==============================] - 59s 44ms/step - loss: 0.6538 - accuracy: 0.8101 - val_loss: 2.0820 - val_accuracy: 0.4747\n",
      "Epoch 3/5\n",
      "1344/1344 [==============================] - 60s 45ms/step - loss: 0.4789 - accuracy: 0.8574 - val_loss: 3.9257 - val_accuracy: 0.2613\n",
      "Epoch 4/5\n",
      "1344/1344 [==============================] - 59s 44ms/step - loss: 0.3953 - accuracy: 0.8823 - val_loss: 0.6575 - val_accuracy: 0.7771\n",
      "Epoch 5/5\n",
      "1344/1344 [==============================] - 59s 44ms/step - loss: 0.3465 - accuracy: 0.8936 - val_loss: 1.1421 - val_accuracy: 0.6717\n",
      "=============================================================================\n",
      "{'optimizer': 'Nadam', 'kernel_initializer': 'normal', 'activation': 'tanh'}\n",
      "Epoch 1/5\n",
      "1344/1344 [==============================] - 65s 46ms/step - loss: 1.5507 - accuracy: 0.5753 - val_loss: 7.7007 - val_accuracy: 0.1030\n",
      "Epoch 2/5\n",
      "1344/1344 [==============================] - 63s 47ms/step - loss: 0.4793 - accuracy: 0.8621 - val_loss: 7.6536 - val_accuracy: 0.1470\n",
      "Epoch 3/5\n",
      "1344/1344 [==============================] - 65s 48ms/step - loss: 0.3419 - accuracy: 0.8968 - val_loss: 4.7680 - val_accuracy: 0.2571\n",
      "Epoch 4/5\n",
      "1344/1344 [==============================] - 63s 47ms/step - loss: 0.2885 - accuracy: 0.9109 - val_loss: 1.0399 - val_accuracy: 0.6848\n",
      "Epoch 5/5\n",
      "1344/1344 [==============================] - 63s 47ms/step - loss: 0.2660 - accuracy: 0.9176 - val_loss: 6.4793 - val_accuracy: 0.1003\n",
      "=============================================================================\n",
      "{'optimizer': 'Nadam', 'kernel_initializer': 'uniform', 'activation': 'tanh'}\n",
      "Epoch 1/5\n",
      "1344/1344 [==============================] - 72s 51ms/step - loss: 1.1806 - accuracy: 0.6852 - val_loss: 8.8215 - val_accuracy: 0.0420\n",
      "Epoch 2/5\n",
      "1344/1344 [==============================] - 69s 51ms/step - loss: 0.3579 - accuracy: 0.8994 - val_loss: 9.4901 - val_accuracy: 0.0420\n",
      "Epoch 3/5\n",
      "1344/1344 [==============================] - 68s 51ms/step - loss: 0.2692 - accuracy: 0.9216 - val_loss: 4.2359 - val_accuracy: 0.4339\n",
      "Epoch 4/5\n",
      "1344/1344 [==============================] - 68s 51ms/step - loss: 0.2333 - accuracy: 0.9282 - val_loss: 3.9520 - val_accuracy: 0.1792\n",
      "Epoch 5/5\n",
      "1344/1344 [==============================] - 68s 50ms/step - loss: 0.2160 - accuracy: 0.9324 - val_loss: 0.6841 - val_accuracy: 0.8024\n",
      "=============================================================================\n"
     ]
    }
   ],
   "source": [
    "epochs = 5\n",
    "batch_size = 20 # 20 divides the training data samples\n",
    "\n",
    "#creating the models with different hyperparameters\n",
    "for a,b,c in [(x,y,z) for x in optimizer for z in activation for y in kernel_initializer]:\n",
    "    params = {'optimizer' : a , 'kernel_initializer' : b , 'activation' : c}\n",
    "    print(params)\n",
    "    curr_model = create_model(a, b, c)\n",
    "    curr_model.fit(training_data_images, training_data_labels, \n",
    "                    validation_data=(testing_data_images, testing_data_labels),\n",
    "                    epochs=epochs, batch_size=batch_size, verbose=1)\n",
    "    print(\"=============================================================================\")"
   ]
  },
  {
   "cell_type": "markdown",
   "id": "826c6f5a",
   "metadata": {},
   "source": [
    "##### From the above results we can see that best parameters are:\n",
    "\n",
    "##### Optimizer: Adam\n",
    "\n",
    "##### Kernel_initializer: uniform\n",
    "\n",
    "##### Activation: relu\n",
    "\n",
    "Let's create the model with the best parameters obtained."
   ]
  },
  {
   "cell_type": "code",
   "execution_count": 25,
   "id": "70f77267",
   "metadata": {},
   "outputs": [],
   "source": [
    "model = create_model(optimizer='Adam', kernel_initializer='uniform', activation='relu')"
   ]
  },
  {
   "cell_type": "markdown",
   "id": "b7058589",
   "metadata": {},
   "source": [
    "## Training the Model"
   ]
  },
  {
   "cell_type": "markdown",
   "id": "1e0450b2",
   "metadata": {},
   "source": [
    "### Fitting the Model"
   ]
  },
  {
   "cell_type": "markdown",
   "id": "aaadd624",
   "metadata": {},
   "source": [
    "Train the model using batch_size=20 to reduce used memory and make the training more quick. We will train the model first on 10 epochs to see the accuracy that we will obtain."
   ]
  },
  {
   "cell_type": "code",
   "execution_count": 26,
   "id": "05eeca1e",
   "metadata": {},
   "outputs": [
    {
     "name": "stdout",
     "output_type": "stream",
     "text": [
      "Epoch 1/10\n",
      "1343/1344 [============================>.] - ETA: 0s - loss: 0.8539 - accuracy: 0.7750\n",
      "Epoch 1: val_loss improved from inf to 1.02074, saving model to weights.hdf5\n",
      "1344/1344 [==============================] - 65s 47ms/step - loss: 0.8535 - accuracy: 0.7751 - val_loss: 1.0207 - val_accuracy: 0.8560\n",
      "Epoch 2/10\n",
      "1344/1344 [==============================] - ETA: 0s - loss: 0.2355 - accuracy: 0.9340\n",
      "Epoch 2: val_loss improved from 1.02074 to 0.86258, saving model to weights.hdf5\n",
      "1344/1344 [==============================] - 62s 46ms/step - loss: 0.2355 - accuracy: 0.9340 - val_loss: 0.8626 - val_accuracy: 0.8646\n",
      "Epoch 3/10\n",
      "1343/1344 [============================>.] - ETA: 0s - loss: 0.1715 - accuracy: 0.9484\n",
      "Epoch 3: val_loss improved from 0.86258 to 0.19431, saving model to weights.hdf5\n",
      "1344/1344 [==============================] - 62s 46ms/step - loss: 0.1716 - accuracy: 0.9483 - val_loss: 0.1943 - val_accuracy: 0.9408\n",
      "Epoch 4/10\n",
      "1344/1344 [==============================] - ETA: 0s - loss: 0.1358 - accuracy: 0.9593\n",
      "Epoch 4: val_loss did not improve from 0.19431\n",
      "1344/1344 [==============================] - 62s 46ms/step - loss: 0.1358 - accuracy: 0.9593 - val_loss: 0.2307 - val_accuracy: 0.9333\n",
      "Epoch 5/10\n",
      "1343/1344 [============================>.] - ETA: 0s - loss: 0.1224 - accuracy: 0.9630\n",
      "Epoch 5: val_loss did not improve from 0.19431\n",
      "1344/1344 [==============================] - 62s 46ms/step - loss: 0.1223 - accuracy: 0.9631 - val_loss: 0.3775 - val_accuracy: 0.8881\n",
      "Epoch 6/10\n",
      "1343/1344 [============================>.] - ETA: 0s - loss: 0.1108 - accuracy: 0.9656\n",
      "Epoch 6: val_loss did not improve from 0.19431\n",
      "1344/1344 [==============================] - 74s 55ms/step - loss: 0.1107 - accuracy: 0.9657 - val_loss: 0.2913 - val_accuracy: 0.9176\n",
      "Epoch 7/10\n",
      "1343/1344 [============================>.] - ETA: 7s - loss: 0.0958 - accuracy: 0.9696 \n",
      "Epoch 7: val_loss improved from 0.19431 to 0.14684, saving model to weights.hdf5\n",
      "1344/1344 [==============================] - 9604s 7s/step - loss: 0.0958 - accuracy: 0.9696 - val_loss: 0.1468 - val_accuracy: 0.9589\n",
      "Epoch 8/10\n",
      "1343/1344 [============================>.] - ETA: 0s - loss: 0.0921 - accuracy: 0.9715\n",
      "Epoch 8: val_loss improved from 0.14684 to 0.12312, saving model to weights.hdf5\n",
      "1344/1344 [==============================] - 59s 44ms/step - loss: 0.0921 - accuracy: 0.9715 - val_loss: 0.1231 - val_accuracy: 0.9676\n",
      "Epoch 9/10\n",
      "1344/1344 [==============================] - ETA: 0s - loss: 0.0875 - accuracy: 0.9717\n",
      "Epoch 9: val_loss did not improve from 0.12312\n",
      "1344/1344 [==============================] - 55s 41ms/step - loss: 0.0875 - accuracy: 0.9717 - val_loss: 1.3633 - val_accuracy: 0.5872\n",
      "Epoch 10/10\n",
      "1343/1344 [============================>.] - ETA: 0s - loss: 0.0782 - accuracy: 0.9744\n",
      "Epoch 10: val_loss did not improve from 0.12312\n",
      "1344/1344 [==============================] - 54s 40ms/step - loss: 0.0782 - accuracy: 0.9744 - val_loss: 0.1416 - val_accuracy: 0.9604\n"
     ]
    }
   ],
   "source": [
    "from keras.callbacks import ModelCheckpoint  \n",
    "\n",
    "# using checkpoints to save model weights to be used later instead of training again on the same epochs.\n",
    "checkpointer = ModelCheckpoint(filepath='weights.hdf5', verbose=1, save_best_only=True)\n",
    "history = model.fit(training_data_images, training_data_labels, \n",
    "                    validation_data=(testing_data_images, testing_data_labels),\n",
    "                    epochs=10, batch_size=20, verbose=1, callbacks=[checkpointer])"
   ]
  },
  {
   "cell_type": "markdown",
   "id": "0be9fd75",
   "metadata": {},
   "source": [
    "### Plotting Loss and Accuracy Curves with Epochs"
   ]
  },
  {
   "cell_type": "code",
   "execution_count": 27,
   "id": "b4f1c54b",
   "metadata": {},
   "outputs": [],
   "source": [
    "import matplotlib.pyplot as plt\n",
    "\n",
    "def plot_loss_accuracy(history):\n",
    "  # Loss Curves\n",
    "  plt.figure(figsize=[8,6])\n",
    "  plt.plot(history.history['loss'],'r',linewidth=3.0)\n",
    "  plt.plot(history.history['val_loss'],'b',linewidth=3.0)\n",
    "  plt.legend(['Training loss', 'Validation Loss'],fontsize=18)\n",
    "  plt.xlabel('Epochs ',fontsize=16)\n",
    "  plt.ylabel('Loss',fontsize=16)\n",
    "  plt.title('Loss Curves',fontsize=16)\n",
    "\n",
    "  # Accuracy Curves\n",
    "  plt.figure(figsize=[8,6])\n",
    "  plt.plot(history.history['accuracy'],'r',linewidth=3.0)\n",
    "  plt.plot(history.history['val_accuracy'],'b',linewidth=3.0)\n",
    "  plt.legend(['Training Accuracy', 'Validation Accuracy'],fontsize=18)\n",
    "  plt.xlabel('Epochs ',fontsize=16)\n",
    "  plt.ylabel('Accuracy',fontsize=16)\n",
    "  plt.title('Accuracy Curves',fontsize=16) "
   ]
  },
  {
   "cell_type": "code",
   "execution_count": 28,
   "id": "5b59c6ef",
   "metadata": {},
   "outputs": [
    {
     "data": {
      "image/png": "[encoded data removed]",
      "text/plain": [
       "<Figure size 800x600 with 1 Axes>"
      ]
     },
     "metadata": {},
     "output_type": "display_data"
    },
    {
     "data": {
      "image/png": "[encoded data removed]",
      "text/plain": [
       "<Figure size 800x600 with 1 Axes>"
      ]
     },
     "metadata": {},
     "output_type": "display_data"
    }
   ],
   "source": [
    "plot_loss_accuracy(history)"
   ]
  },
  {
   "cell_type": "markdown",
   "id": "2a8cc87f",
   "metadata": {},
   "source": [
    "### Load the Model with the Best Validation Loss"
   ]
  },
  {
   "cell_type": "code",
   "execution_count": 29,
   "id": "94ddda36",
   "metadata": {},
   "outputs": [],
   "source": [
    "model.load_weights('weights.hdf5')"
   ]
  },
  {
   "cell_type": "markdown",
   "id": "cef520d4",
   "metadata": {},
   "source": [
    "### Test the Model"
   ]
  },
  {
   "cell_type": "code",
   "execution_count": 30,
   "id": "2ef4a491",
   "metadata": {},
   "outputs": [
    {
     "name": "stdout",
     "output_type": "stream",
     "text": [
      "210/210 [==============================] - 4s 16ms/step - loss: 0.1231 - accuracy: 0.9676\n",
      "Test Accuracy: 0.9675595164299011\n",
      "Test Loss: 0.12312395125627518\n"
     ]
    }
   ],
   "source": [
    "# Final evaluation of the model\n",
    "metrics = model.evaluate(testing_data_images, testing_data_labels, verbose=1)\n",
    "print(\"Test Accuracy: {}\".format(metrics[1]))\n",
    "print(\"Test Loss: {}\".format(metrics[0]))"
   ]
  },
  {
   "cell_type": "markdown",
   "id": "6ae4b01f",
   "metadata": {},
   "source": [
    "##### We get test accuracy of 96.76% after training on 10 epochs only."
   ]
  },
  {
   "cell_type": "markdown",
   "id": "68adefa5",
   "metadata": {},
   "source": [
    "### Training More on the best model"
   ]
  },
  {
   "cell_type": "code",
   "execution_count": 31,
   "id": "2fe96daa",
   "metadata": {},
   "outputs": [
    {
     "name": "stdout",
     "output_type": "stream",
     "text": [
      "Epoch 1/20\n",
      "1344/1344 [==============================] - ETA: 0s - loss: 0.0914 - accuracy: 0.9700\n",
      "Epoch 1: val_loss improved from inf to 0.11957, saving model to weights.hdf5\n",
      "1344/1344 [==============================] - 67s 50ms/step - loss: 0.0914 - accuracy: 0.9700 - val_loss: 0.1196 - val_accuracy: 0.9664\n",
      "Epoch 2/20\n",
      "1344/1344 [==============================] - ETA: 0s - loss: 0.0769 - accuracy: 0.9744\n",
      "Epoch 2: val_loss did not improve from 0.11957\n",
      "1344/1344 [==============================] - 62s 46ms/step - loss: 0.0769 - accuracy: 0.9744 - val_loss: 1.2704 - val_accuracy: 0.6741\n",
      "Epoch 3/20\n",
      "1344/1344 [==============================] - ETA: 0s - loss: 0.0730 - accuracy: 0.9766\n",
      "Epoch 3: val_loss did not improve from 0.11957\n",
      "1344/1344 [==============================] - 62s 46ms/step - loss: 0.0730 - accuracy: 0.9766 - val_loss: 0.1269 - val_accuracy: 0.9693\n",
      "Epoch 4/20\n",
      "1344/1344 [==============================] - ETA: 0s - loss: 0.0669 - accuracy: 0.9788\n",
      "Epoch 4: val_loss did not improve from 0.11957\n",
      "1344/1344 [==============================] - 61s 45ms/step - loss: 0.0669 - accuracy: 0.9788 - val_loss: 1.3908 - val_accuracy: 0.5857\n",
      "Epoch 5/20\n",
      "1343/1344 [============================>.] - ETA: 0s - loss: 0.0650 - accuracy: 0.9780\n",
      "Epoch 5: val_loss improved from 0.11957 to 0.10549, saving model to weights.hdf5\n",
      "1344/1344 [==============================] - 61s 45ms/step - loss: 0.0649 - accuracy: 0.9781 - val_loss: 0.1055 - val_accuracy: 0.9732\n",
      "Epoch 6/20\n",
      "1344/1344 [==============================] - ETA: 0s - loss: 0.0657 - accuracy: 0.9781\n",
      "Epoch 6: val_loss did not improve from 0.10549\n",
      "1344/1344 [==============================] - 59s 44ms/step - loss: 0.0657 - accuracy: 0.9781 - val_loss: 1.8807 - val_accuracy: 0.5238\n",
      "Epoch 7/20\n",
      "1344/1344 [==============================] - ETA: 0s - loss: 0.0584 - accuracy: 0.9805\n",
      "Epoch 7: val_loss did not improve from 0.10549\n",
      "1344/1344 [==============================] - 59s 44ms/step - loss: 0.0584 - accuracy: 0.9805 - val_loss: 1.2361 - val_accuracy: 0.5991\n",
      "Epoch 8/20\n",
      "1344/1344 [==============================] - ETA: 0s - loss: 0.0563 - accuracy: 0.9807\n",
      "Epoch 8: val_loss did not improve from 0.10549\n",
      "1344/1344 [==============================] - 59s 44ms/step - loss: 0.0563 - accuracy: 0.9807 - val_loss: 0.1214 - val_accuracy: 0.9649\n",
      "Epoch 9/20\n",
      "1343/1344 [============================>.] - ETA: 0s - loss: 0.0564 - accuracy: 0.9804\n",
      "Epoch 9: val_loss did not improve from 0.10549\n",
      "1344/1344 [==============================] - 59s 44ms/step - loss: 0.0564 - accuracy: 0.9804 - val_loss: 0.2530 - val_accuracy: 0.9315\n",
      "Epoch 10/20\n",
      "1344/1344 [==============================] - ETA: 0s - loss: 0.0509 - accuracy: 0.9827\n",
      "Epoch 10: val_loss did not improve from 0.10549\n",
      "1344/1344 [==============================] - 59s 44ms/step - loss: 0.0509 - accuracy: 0.9827 - val_loss: 0.1378 - val_accuracy: 0.9664\n",
      "Epoch 11/20\n",
      "1344/1344 [==============================] - ETA: 0s - loss: 0.0539 - accuracy: 0.9815\n",
      "Epoch 11: val_loss did not improve from 0.10549\n",
      "1344/1344 [==============================] - 66s 49ms/step - loss: 0.0539 - accuracy: 0.9815 - val_loss: 0.1096 - val_accuracy: 0.9732\n",
      "Epoch 12/20\n",
      "1344/1344 [==============================] - ETA: 0s - loss: 0.0474 - accuracy: 0.9841\n",
      "Epoch 12: val_loss improved from 0.10549 to 0.09975, saving model to weights.hdf5\n",
      "1344/1344 [==============================] - 61s 45ms/step - loss: 0.0474 - accuracy: 0.9841 - val_loss: 0.0997 - val_accuracy: 0.9774\n",
      "Epoch 13/20\n",
      "1343/1344 [============================>.] - ETA: 0s - loss: 0.0506 - accuracy: 0.9829\n",
      "Epoch 13: val_loss did not improve from 0.09975\n",
      "1344/1344 [==============================] - 59s 44ms/step - loss: 0.0506 - accuracy: 0.9830 - val_loss: 0.1161 - val_accuracy: 0.9702\n",
      "Epoch 14/20\n",
      "1343/1344 [============================>.] - ETA: 0s - loss: 0.0463 - accuracy: 0.9843\n",
      "Epoch 14: val_loss did not improve from 0.09975\n",
      "1344/1344 [==============================] - 59s 44ms/step - loss: 0.0463 - accuracy: 0.9842 - val_loss: 0.3535 - val_accuracy: 0.8976\n",
      "Epoch 15/20\n",
      "1344/1344 [==============================] - ETA: 0s - loss: 0.0444 - accuracy: 0.9843\n",
      "Epoch 15: val_loss improved from 0.09975 to 0.09324, saving model to weights.hdf5\n",
      "1344/1344 [==============================] - 59s 44ms/step - loss: 0.0444 - accuracy: 0.9843 - val_loss: 0.0932 - val_accuracy: 0.9789\n",
      "Epoch 16/20\n",
      "1344/1344 [==============================] - ETA: 0s - loss: 0.0439 - accuracy: 0.9852\n",
      "Epoch 16: val_loss did not improve from 0.09324\n",
      "1344/1344 [==============================] - 60s 44ms/step - loss: 0.0439 - accuracy: 0.9852 - val_loss: 1.5360 - val_accuracy: 0.5815\n",
      "Epoch 17/20\n",
      "1343/1344 [============================>.] - ETA: 0s - loss: 0.0413 - accuracy: 0.9861\n",
      "Epoch 17: val_loss did not improve from 0.09324\n",
      "1344/1344 [==============================] - 59s 44ms/step - loss: 0.0413 - accuracy: 0.9861 - val_loss: 0.1301 - val_accuracy: 0.9631\n",
      "Epoch 18/20\n",
      "1343/1344 [============================>.] - ETA: 0s - loss: 0.0426 - accuracy: 0.9855\n",
      "Epoch 18: val_loss did not improve from 0.09324\n",
      "1344/1344 [==============================] - 59s 44ms/step - loss: 0.0426 - accuracy: 0.9855 - val_loss: 0.1058 - val_accuracy: 0.9738\n",
      "Epoch 19/20\n",
      "1344/1344 [==============================] - ETA: 0s - loss: 0.0389 - accuracy: 0.9867\n",
      "Epoch 19: val_loss did not improve from 0.09324\n",
      "1344/1344 [==============================] - 59s 44ms/step - loss: 0.0389 - accuracy: 0.9867 - val_loss: 0.1039 - val_accuracy: 0.9765\n",
      "Epoch 20/20\n",
      "1343/1344 [============================>.] - ETA: 0s - loss: 0.0371 - accuracy: 0.9870\n",
      "Epoch 20: val_loss did not improve from 0.09324\n",
      "1344/1344 [==============================] - 60s 45ms/step - loss: 0.0371 - accuracy: 0.9870 - val_loss: 0.1065 - val_accuracy: 0.9765\n"
     ]
    },
    {
     "data": {
      "image/png": "[encoded data removed]",
      "text/plain": [
       "<Figure size 800x600 with 1 Axes>"
      ]
     },
     "metadata": {},
     "output_type": "display_data"
    },
    {
     "data": {
      "image/png": "[encoded data removed]",
      "text/plain": [
       "<Figure size 800x600 with 1 Axes>"
      ]
     },
     "metadata": {},
     "output_type": "display_data"
    }
   ],
   "source": [
    "epochs = 20\n",
    "batch_size = 20\n",
    "\n",
    "checkpointer = ModelCheckpoint(filepath='weights.hdf5', verbose=1, save_best_only=True)\n",
    "\n",
    "history = model.fit(training_data_images, training_data_labels, \n",
    "                    validation_data=(testing_data_images, testing_data_labels),\n",
    "                    epochs=epochs, batch_size=batch_size, verbose=1, callbacks=[checkpointer])\n",
    "          \n",
    "model.load_weights('weights.hdf5')\n",
    "\n",
    "plot_loss_accuracy(history)\n"
   ]
  },
  {
   "cell_type": "code",
   "execution_count": 32,
   "id": "02462a91",
   "metadata": {},
   "outputs": [
    {
     "data": {
      "image/png": "[encoded data removed]",
      "text/plain": [
       "<Figure size 800x600 with 1 Axes>"
      ]
     },
     "metadata": {},
     "output_type": "display_data"
    },
    {
     "data": {
      "image/png": "[encoded data removed]",
      "text/plain": [
       "<Figure size 800x600 with 1 Axes>"
      ]
     },
     "metadata": {},
     "output_type": "display_data"
    }
   ],
   "source": [
    "plot_loss_accuracy(history)"
   ]
  },
  {
   "cell_type": "markdown",
   "id": "0b68308c",
   "metadata": {},
   "source": [
    "### Testing the Model again"
   ]
  },
  {
   "cell_type": "code",
   "execution_count": 33,
   "id": "ff7e3cfa",
   "metadata": {},
   "outputs": [
    {
     "name": "stdout",
     "output_type": "stream",
     "text": [
      "210/210 [==============================] - 4s 18ms/step - loss: 0.0932 - accuracy: 0.9789\n",
      "Test Accuracy: 0.9788690209388733\n",
      "Test Loss: 0.09324000030755997\n"
     ]
    }
   ],
   "source": [
    "# Final evaluation of the model\n",
    "metrics = model.evaluate(testing_data_images, testing_data_labels, verbose=1)\n",
    "print(\"Test Accuracy: {}\".format(metrics[1]))\n",
    "print(\"Test Loss: {}\".format(metrics[0]))"
   ]
  },
  {
   "cell_type": "markdown",
   "id": "e30f0e5b",
   "metadata": {},
   "source": [
    "After training the model on more epochs we gained a better model which can classify complex patterns . So when we tested it on our test dataset we had better results than before."
   ]
  },
  {
   "cell_type": "markdown",
   "id": "47288651",
   "metadata": {},
   "source": [
    "##### Test accuracy is improved from 96.76% to 97.89% As we train the model on 20 more epochs."
   ]
  },
  {
   "cell_type": "markdown",
   "id": "4c61128c",
   "metadata": {},
   "source": [
    "### Saving the Final Model"
   ]
  },
  {
   "cell_type": "markdown",
   "id": "bbb39775",
   "metadata": {},
   "source": [
    "Let's save the model on json format to be used later instead of creating the model again from scratch."
   ]
  },
  {
   "cell_type": "code",
   "execution_count": 34,
   "id": "d4843c4c",
   "metadata": {},
   "outputs": [],
   "source": [
    "from keras.models import model_from_json"
   ]
  },
  {
   "cell_type": "code",
   "execution_count": 35,
   "id": "a5edd0ce",
   "metadata": {},
   "outputs": [],
   "source": [
    "model_yaml = model.to_json()\n",
    "with open(\"model.yaml\", \"w\") as yaml_file:\n",
    "    yaml_file.write(model_yaml)"
   ]
  },
  {
   "cell_type": "markdown",
   "id": "98b3f694",
   "metadata": {},
   "source": [
    "Save the model weights to file."
   ]
  },
  {
   "cell_type": "code",
   "execution_count": 36,
   "id": "6e2e7ed0",
   "metadata": {},
   "outputs": [
    {
     "name": "stdout",
     "output_type": "stream",
     "text": [
      "Saved model to disk\n"
     ]
    }
   ],
   "source": [
    "# serialize weights to HDF5\n",
    "model.save_weights(\"model.h5\")\n",
    "print(\"Saved model to disk\")"
   ]
  },
  {
   "cell_type": "code",
   "execution_count": 37,
   "id": "fb370fac",
   "metadata": {},
   "outputs": [
    {
     "name": "stdout",
     "output_type": "stream",
     "text": [
      "Loaded model from disk\n"
     ]
    }
   ],
   "source": [
    "# load YAML and create model\n",
    "yaml_file = open('model.yaml', 'r')\n",
    "loaded_model_json = yaml_file.read()\n",
    "yaml_file.close()\n",
    "loaded_model = model_from_json(loaded_model_json)\n",
    "# load weights into new model\n",
    "loaded_model.load_weights(\"model.h5\")\n",
    "print(\"Loaded model from disk\")\n",
    " \n",
    "# compile the loaded model\n",
    "loaded_model.compile(loss='binary_crossentropy', optimizer='Adam', metrics=['accuracy'])"
   ]
  },
  {
   "cell_type": "markdown",
   "id": "625993e5",
   "metadata": {},
   "source": [
    "### Benchmark Model"
   ]
  },
  {
   "cell_type": "code",
   "execution_count": 38,
   "id": "8d143fd6",
   "metadata": {},
   "outputs": [
    {
     "name": "stdout",
     "output_type": "stream",
     "text": [
      "Epoch 1/5\n",
      "1344/1344 [==============================] - 10s 7ms/step - loss: 3.3616 - accuracy: 0.0382 - val_loss: 3.2807 - val_accuracy: 0.0661\n",
      "Epoch 2/5\n",
      "1344/1344 [==============================] - 10s 8ms/step - loss: 3.2312 - accuracy: 0.0654 - val_loss: 3.1746 - val_accuracy: 0.0818\n",
      "Epoch 3/5\n",
      "1344/1344 [==============================] - 12s 9ms/step - loss: 3.1391 - accuracy: 0.0744 - val_loss: 3.0998 - val_accuracy: 0.0783\n",
      "Epoch 4/5\n",
      "1344/1344 [==============================] - 10s 8ms/step - loss: 3.0883 - accuracy: 0.0758 - val_loss: 3.0620 - val_accuracy: 0.0851\n",
      "Epoch 5/5\n",
      "1344/1344 [==============================] - 10s 8ms/step - loss: 3.0662 - accuracy: 0.0770 - val_loss: 3.0450 - val_accuracy: 0.0830\n",
      "210/210 [==============================] - 1s 4ms/step - loss: 3.0450 - accuracy: 0.0830\n",
      "Baseline Model Test Accuracy: 0.08303571492433548\n",
      "Baseline Model Test Loss: 3.044992685317993\n"
     ]
    }
   ],
   "source": [
    "baseline_model = Sequential()\n",
    "baseline_model.add(Conv2D(filters=16, kernel_size=3, padding='same', input_shape=(64, 64, 1), activation='relu')) # Input layer\n",
    "baseline_model.add(GlobalAveragePooling2D())\n",
    "baseline_model.add(Dense(38, activation = 'softmax')) # Output layer => output dimension = 38 as it is multi-class\n",
    "\n",
    "# Compile the baseline model\n",
    "baseline_model.compile(loss='categorical_crossentropy', metrics=['accuracy'], optimizer='Adam')\n",
    "\n",
    "# Fit the baseline model with training dataset\n",
    "epochs = 5\n",
    "batch_size = 20\n",
    "\n",
    "baseline_model.fit(training_data_images, training_data_labels, \n",
    "                  validation_data=(testing_data_images, testing_data_labels),\n",
    "                  epochs=epochs, batch_size=batch_size, verbose=1)\n",
    "\n",
    "# Test the baseline model\n",
    "baseline_metrics = baseline_model.evaluate(testing_data_images, testing_data_labels, verbose=1)\n",
    "print(\"Baseline Model Test Accuracy: {}\".format(baseline_metrics[1]))\n",
    "print(\"Baseline Model Test Loss: {}\".format(baseline_metrics[0]))\n"
   ]
  },
  {
   "cell_type": "markdown",
   "id": "7813d35b",
   "metadata": {},
   "source": [
    "### Predict Image Classes"
   ]
  },
  {
   "cell_type": "code",
   "execution_count": 39,
   "id": "e95dc07b",
   "metadata": {},
   "outputs": [],
   "source": [
    "def get_predicted_classes(model, data, labels=None):\n",
    "  image_predictions = model.predict(data)\n",
    "  predicted_classes = np.argmax(image_predictions, axis=1)\n",
    "  true_classes = np.argmax(labels, axis=1)\n",
    "  return predicted_classes, true_classes"
   ]
  },
  {
   "cell_type": "markdown",
   "id": "66ac458c",
   "metadata": {},
   "source": [
    "#### Comparing Evaluation Metrics between Benchmark Model and Final Model"
   ]
  },
  {
   "cell_type": "markdown",
   "id": "c99f7478",
   "metadata": {},
   "source": [
    "Making a method which will print all metrics (precision, recall, f1-score and support) with each class in the dataset."
   ]
  },
  {
   "cell_type": "code",
   "execution_count": 40,
   "id": "b34b7be4",
   "metadata": {},
   "outputs": [],
   "source": [
    "from sklearn.metrics import classification_report\n",
    "\n",
    "def get_classification_report(y_true, y_pred):\n",
    "  print(classification_report(y_true, y_pred))"
   ]
  },
  {
   "cell_type": "markdown",
   "id": "6ab9df2a",
   "metadata": {},
   "source": [
    "#### Evaluating Final Model using the specified metrics"
   ]
  },
  {
   "cell_type": "code",
   "execution_count": 41,
   "id": "51cbc20e",
   "metadata": {},
   "outputs": [
    {
     "name": "stdout",
     "output_type": "stream",
     "text": [
      "210/210 [==============================] - 3s 15ms/step\n",
      "              precision    recall  f1-score   support\n",
      "\n",
      "          10       0.99      1.00      1.00       240\n",
      "          11       1.00      0.99      1.00       240\n",
      "          12       0.94      0.97      0.96       240\n",
      "          13       1.00      0.97      0.98       240\n",
      "          14       0.99      1.00      1.00       240\n",
      "          15       0.98      0.99      0.99       240\n",
      "          16       1.00      0.99      1.00       240\n",
      "          17       0.97      0.99      0.98       240\n",
      "          18       0.94      0.94      0.94       240\n",
      "          19       0.96      1.00      0.98       240\n",
      "          20       0.96      0.91      0.94       240\n",
      "          21       1.00      1.00      1.00       240\n",
      "          22       0.98      0.99      0.99       240\n",
      "          23       0.97      1.00      0.98       240\n",
      "          24       1.00      0.94      0.97       240\n",
      "          25       0.94      0.99      0.97       240\n",
      "          26       1.00      0.95      0.97       240\n",
      "          27       1.00      0.97      0.99       240\n",
      "          28       0.99      1.00      1.00       240\n",
      "          29       0.96      0.97      0.97       240\n",
      "          30       0.96      0.97      0.96       240\n",
      "          31       1.00      0.97      0.99       240\n",
      "          32       0.98      1.00      0.99       240\n",
      "          33       1.00      1.00      1.00       240\n",
      "          34       0.96      0.95      0.95       240\n",
      "          35       0.98      0.97      0.98       240\n",
      "          36       0.96      0.97      0.96       240\n",
      "          37       1.00      0.99      1.00       240\n",
      "\n",
      "    accuracy                           0.98      6720\n",
      "   macro avg       0.98      0.98      0.98      6720\n",
      "weighted avg       0.98      0.98      0.98      6720\n",
      "\n"
     ]
    }
   ],
   "source": [
    "y_pred, y_true = get_predicted_classes(model, testing_data_images, testing_data_labels)\n",
    "get_classification_report(y_true, y_pred)"
   ]
  },
  {
   "cell_type": "markdown",
   "id": "56b79f4a",
   "metadata": {},
   "source": [
    "#### Evaluating Baseline (Benchmark) Model using the specified metrics"
   ]
  },
  {
   "cell_type": "code",
   "execution_count": 42,
   "id": "e19d9917",
   "metadata": {},
   "outputs": [
    {
     "name": "stdout",
     "output_type": "stream",
     "text": [
      "210/210 [==============================] - 1s 3ms/step\n",
      "              precision    recall  f1-score   support\n",
      "\n",
      "          10       0.08      0.23      0.11       240\n",
      "          11       0.00      0.00      0.00       240\n",
      "          12       0.00      0.00      0.00       240\n",
      "          13       0.00      0.00      0.00       240\n",
      "          14       0.00      0.00      0.00       240\n",
      "          15       0.00      0.00      0.00       240\n",
      "          16       0.00      0.00      0.00       240\n",
      "          17       0.20      0.74      0.32       240\n",
      "          18       0.00      0.00      0.00       240\n",
      "          19       0.00      0.00      0.00       240\n",
      "          20       0.07      0.13      0.10       240\n",
      "          21       0.00      0.00      0.00       240\n",
      "          22       0.00      0.00      0.00       240\n",
      "          23       0.00      0.00      0.00       240\n",
      "          24       0.09      0.07      0.08       240\n",
      "          25       0.00      0.00      0.00       240\n",
      "          26       0.00      0.00      0.00       240\n",
      "          27       0.00      0.00      0.00       240\n",
      "          28       0.00      0.00      0.00       240\n",
      "          29       0.00      0.00      0.00       240\n",
      "          30       0.05      0.38      0.09       240\n",
      "          31       0.00      0.00      0.00       240\n",
      "          32       0.00      0.00      0.00       240\n",
      "          33       0.00      0.00      0.00       240\n",
      "          34       0.00      0.00      0.00       240\n",
      "          35       0.17      0.18      0.18       240\n",
      "          36       0.05      0.39      0.09       240\n",
      "          37       0.07      0.19      0.11       240\n",
      "\n",
      "    accuracy                           0.08      6720\n",
      "   macro avg       0.03      0.08      0.04      6720\n",
      "weighted avg       0.03      0.08      0.04      6720\n",
      "\n"
     ]
    },
    {
     "name": "stderr",
     "output_type": "stream",
     "text": [
      "C:\\Users\\hp\\AppData\\Local\\Programs\\Python\\Python311\\Lib\\site-packages\\sklearn\\metrics\\_classification.py:1344: UndefinedMetricWarning: Precision and F-score are ill-defined and being set to 0.0 in labels with no predicted samples. Use `zero_division` parameter to control this behavior.\n",
      "  _warn_prf(average, modifier, msg_start, len(result))\n",
      "C:\\Users\\hp\\AppData\\Local\\Programs\\Python\\Python311\\Lib\\site-packages\\sklearn\\metrics\\_classification.py:1344: UndefinedMetricWarning: Precision and F-score are ill-defined and being set to 0.0 in labels with no predicted samples. Use `zero_division` parameter to control this behavior.\n",
      "  _warn_prf(average, modifier, msg_start, len(result))\n",
      "C:\\Users\\hp\\AppData\\Local\\Programs\\Python\\Python311\\Lib\\site-packages\\sklearn\\metrics\\_classification.py:1344: UndefinedMetricWarning: Precision and F-score are ill-defined and being set to 0.0 in labels with no predicted samples. Use `zero_division` parameter to control this behavior.\n",
      "  _warn_prf(average, modifier, msg_start, len(result))\n"
     ]
    }
   ],
   "source": [
    "y_pred, y_true = get_predicted_classes(baseline_model, testing_data_images, testing_data_labels)\n",
    "get_classification_report(y_true, y_pred)"
   ]
  },
  {
   "cell_type": "code",
   "execution_count": 43,
   "id": "2f55b4a6",
   "metadata": {},
   "outputs": [],
   "source": [
    "def get_non_zero_index_from_one_hot_encoding(one_hot_encoding):\n",
    "  non_zero_index = np.where(one_hot_encoding == 1)[0]\n",
    "  assert(len(non_zero_index) == 1)\n",
    "  non_zero_index = non_zero_index[0]\n",
    "  return non_zero_index"
   ]
  },
  {
   "cell_type": "code",
   "execution_count": 44,
   "id": "2140b11b",
   "metadata": {},
   "outputs": [],
   "source": [
    "\n",
    "def convert_categorical_label_to_real_label(categorical_label):\n",
    "  real_labels = []\n",
    "  real_labels.extend([x for x in range(10)])\n",
    "  real_labels.extend(['أ', 'ب', 'ت', 'ث', 'ج', 'ح', 'خ', 'د', 'ذ', 'ر', 'ز', 'س', 'ش', 'ص', 'ض', 'ط', 'ظ', 'ع', 'غ', 'ف', 'ق', 'ك', 'ل', 'م', 'ن', 'ه', 'و', 'ى'])\n",
    "  return real_labels[categorical_label]\n",
    "     "
   ]
  },
  {
   "cell_type": "code",
   "execution_count": 45,
   "id": "af0d9b23",
   "metadata": {},
   "outputs": [],
   "source": [
    "def show_example(sample_index):\n",
    "  y_pred, y_true = get_predicted_classes(model, testing_data_images[[sample_index]], testing_data_labels[[sample_index]])\n",
    "  non_zero_index = get_non_zero_index_from_one_hot_encoding(testing_data_labels[sample_index])\n",
    "  y_true = y_true[0]\n",
    "  y_pred = y_pred[0]\n",
    "  assert y_true == non_zero_index\n",
    "  true_label = convert_categorical_label_to_real_label(y_true)\n",
    "  predicted_label = convert_categorical_label_to_real_label(y_pred)\n",
    "  print(\"The following image has the written character '{}' but the model predicted it as '{}'\".format(true_label, predicted_label))\n",
    "  return true_label == predicted_label"
   ]
  },
  {
   "cell_type": "code",
   "execution_count": 46,
   "id": "46975c25",
   "metadata": {},
   "outputs": [
    {
     "name": "stdout",
     "output_type": "stream",
     "text": [
      "1/1 [==============================] - 0s 86ms/step\n",
      "The following image has the written character 'ت' but the model predicted it as 'ت'\n"
     ]
    },
    {
     "data": {
      "image/png": "[encoded data removed]",
      "text/plain": [
       "<PIL.Image.Image image mode=L size=64x64>"
      ]
     },
     "execution_count": 46,
     "metadata": {},
     "output_type": "execute_result"
    }
   ],
   "source": [
    "sample_index = 5\n",
    "show_example(sample_index)\n",
    "convert_values_to_image(testing_digits_images.loc[sample_index], True)"
   ]
  },
  {
   "cell_type": "code",
   "execution_count": 56,
   "id": "d00fc791",
   "metadata": {},
   "outputs": [
    {
     "name": "stdout",
     "output_type": "stream",
     "text": [
      "1/1 [==============================] - 0s 29ms/step\n",
      "The following image has the written character 'ى' but the model predicted it as 'ى'\n"
     ]
    },
    {
     "data": {
      "image/png": "[encoded data removed]",
      "text/plain": [
       "<PIL.Image.Image image mode=L size=64x64>"
      ]
     },
     "execution_count": 56,
     "metadata": {},
     "output_type": "execute_result"
    }
   ],
   "source": [
    "sample_index =6719\n",
    "show_example(sample_index)\n",
    "convert_values_to_image(testing_letters_images.loc[sample_index - testing_digits_images.shape[0]], True) "
   ]
  },
  {
   "cell_type": "code",
   "execution_count": 57,
   "id": "a4c026dc",
   "metadata": {},
   "outputs": [
    {
     "name": "stdout",
     "output_type": "stream",
     "text": [
      "1/1 [==============================] - 0s 38ms/step\n",
      "The following image has the written character 'غ' but the model predicted it as 'غ'\n"
     ]
    },
    {
     "data": {
      "image/png": "[encoded data removed]",
      "text/plain": [
       "<PIL.Image.Image image mode=L size=64x64>"
      ]
     },
     "execution_count": 57,
     "metadata": {},
     "output_type": "execute_result"
    }
   ],
   "source": [
    "sample_index =6700\n",
    "show_example(sample_index)\n",
    "convert_values_to_image(testing_letters_images.loc[sample_index - testing_digits_images.shape[0]], True) "
   ]
  },
  {
   "cell_type": "markdown",
   "id": "1fdde58b",
   "metadata": {},
   "source": [
    "## Conclusion\n",
    "\n",
    "##### We built a CNN model which can classify the arabic handwritten images into digits and letters. We tested the model on more than 13000 image with all possible classes and got very high accuracy of 97.88%."
   ]
  },
  {
   "cell_type": "code",
   "execution_count": null,
   "id": "b0330464",
   "metadata": {},
   "outputs": [],
   "source": []
  }
 ],
 "metadata": {
  "kernelspec": {
   "display_name": "Python 3 (ipykernel)",
   "language": "python",
   "name": "python3"
  },
  "language_info": {
   "codemirror_mode": {
    "name": "ipython",
    "version": 3
   },
   "file_extension": ".py",
   "mimetype": "text/x-python",
   "name": "python",
   "nbconvert_exporter": "python",
   "pygments_lexer": "ipython3",
   "version": "3.11.1"
  }
 },
 "nbformat": 4,
 "nbformat_minor": 5
}
